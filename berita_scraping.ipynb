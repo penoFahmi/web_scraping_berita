{
 "cells": [
  {
   "cell_type": "code",
   "execution_count": 6,
   "id": "c621db5e",
   "metadata": {},
   "outputs": [
    {
     "data": {
      "application/vnd.microsoft.datawrangler.viewer.v0+json": {
       "columns": [
        {
         "name": "index",
         "rawType": "int64",
         "type": "integer"
        },
        {
         "name": "No",
         "rawType": "int64",
         "type": "integer"
        },
        {
         "name": "Text",
         "rawType": "object",
         "type": "string"
        },
        {
         "name": "URL",
         "rawType": "object",
         "type": "string"
        },
        {
         "name": "Kategori",
         "rawType": "object",
         "type": "string"
        }
       ],
       "conversionMethod": "pd.DataFrame",
       "ref": "159f4904-2f8f-4c12-842a-22d3276f1fb1",
       "rows": [
        [
         "0",
         "1",
         "Turnamen bulutangkis usia muda bertajukBupati Sumedang Open 2025sedang digelar. Diharapkan bakal lahir bibit-bibit pebulutangkis top di sana. Sumedang Open 2025 digelar di GOR Tadjimalela, Sumedang, Senin (5/5/2025). PBSI Sumedang membagi pertandingan ke tiga kategori, yakni tunggal usia dini hingga remaja, ganda berbagai kelompok usia, serta beregu. Ada 450 atlet muda, 55 atlet dewasa, dan 9 tim beregu pengkab/pengkot se-Jawa Barat. Turnamen sudah dimulai sejak Senin kemarin dan bakal makin sengit memasuki babak-babak akhir tiga hari ke depan. SCROLL TO CONTINUE WITH CONTENT Salah satu tamu istimewa yang datang ke turnamen itu adalah mantan pemainPersib BandungTantan Dzalikha. Meski dulunya berkarier di lapangan hijau, Tantan rupanya sangat menggemari olahraga bulutangkis. Dia melihat turnamen seperti ini punya peran penting dalam pembinaan atlet usia muda di Tanah Air. Dia berharap turnamen seperti ini bisa digelar di kota-kota lainnya. \"Sebagai mantan pemain Persib dan pecinta bulutangkis, saya sangat bangga melihat penyelenggaraan turnamen seperti ini,\" ujar Tantan saat ditemui di GOR Tadjimalela, Sumedang, Kamis (8/5). \"Semoga tidak hanya digelar di Sumedang, tapi juga menyebar ke banyak daerah lain, dan bisa menjadi agenda tahunan untuk menggali talenta-talenta terbaik,\" jelasnya. Tantan juga menyoroti antusiasme peserta yang datang dari berbagai daerah, termasuk luar Pulau Jawa. Hal dinilai menambah semangat kompetisi dan memperkaya pengalaman atlet-atlet muda. Tantan turut memberikan apresiasi kepada PBSI Sumedang yang menyelenggarakan Bupati Sumedang Open 2025 ini \"Ini salah satu contoh untuk PBSI di kota-kota lain, agar mengadakan turnamen serupa di daerahnya masing-masing. Ini penting agar kita tidak kekurangan atlet bulutangkis di masa depan,\" jelasnya. Terakhir, Tantan berharap turnamen seperti ini bisa menjadi motivasi bagi anak-anak Indonesia untuk mencintai dan menekuni olahraga bulutangkis. Tak lupa dia mendoakan kepengurusan PBSI Sumedang di bawah Indra Jayaatmaja bisa berjalan dengan baik. \"Antusiasme masyarakat sangat luar biasa. Semoga Pak Indra selalu diberikan kesehatan dan kesuksesan dalam membina bulutangkis Sumedang,\" tutup Tantan.",
         "https://sport.detik.com/raket/d-7906512/semoga-sumedang-open-2025-lahirkan-bibit-pebulutangkis-top",
         "Non-Sepak Bola"
        ],
        [
         "1",
         "2",
         "Pebulutangkis tunggal putra IndonesiaAnthony Sinisuka Gintingmenanggapi sejumlah juniornya yang sedang naik daun. Ginting mengaku terpacu. Saat ini, Ginting masih dalam pemulihan cedera bahu yang membuatnya absen beberapa bulan ke depan. Ia bahkan telah melakukan proteksi ranking BWF agar tidak terus merosot setelah tak tampil di turnamen sejak awal April lalu. Dalam waktu yang bersamaan Alwi Farhan cs menunjukkan progres positif. Pekan ini, Alwi naik tiga tingkat pada posisi ke-30 ranking dunia. Sedangkan Mohammad Zaki Ubaidillah naik 10 anak tangga menjadi peringkat ke-67 pada pekan ini. SCROLL TO CONTINUE WITH CONTENT Perbaikan ranking diperoleh usai menunjukkan performa sip di Piala Sudirman 2025. Bersama Jonatan Christie, Alwi dan Ubed, panggilan karib Moh. Zaki Ubaidillah, bahu-membahu menyumbangkan poin bagi Indonesia dari sektor tunggal putra. \"Ya pastinya melihat progres semua yang ada dari yang Alwi, Ubed, Saut (Yohanes Marcellyno), yang sekarang ada di utama, memang sudah cukup bagus. Bagus banget malah bisa kita bilang,\" kata Ginting kepada pewarta di Pelatnas PBSI, Cipayung. \"Bukan cuma di pertandingan, tapi yang saya lihat di latihannya juga mereka ada tujuan dan semangatnya bagus juga gitu. Jadi bukan yang sekedar datang latihan, tapi memang mereka punya tujuan dan ada keinginan yang lebih juga,\" ujarnya. DiakuiAnthony Ginting, kondisi tersebut tak jarang membuatnya khawatir bakal tertinggal dari juniornya. Apalagi dengan kondisinya yang masih belum bisa bertanding. Semangatnya berkompetisi sebagai atlet pun terusik. \"Ya pasti kalau jiwa kompetitif pasti masih ada juga, cuma memang itu yang harus dibatasi juga. Ya, kayak sekarang latihan, kita main game segala macam, rasa enggak mau kalahnya ada,\" kata juara Asia 2023 itu. \"Tapi untuk saat ini (memang) harus ditahan dulu, karena takutnya karena belum boleh smes, tahunya sudah gatal mau pukul karena main game apa gimana gitu. Jadi memang ya kita tunggu-lah,\" tuturnya. Anthony Gintingdijadwalkan comeback ke turnamen pada bulan Juli mendatang. Itu pun masih dengan catatan jika proses pemulihan cederanya berjalan lancar. ",
         "https://sport.detik.com/raket/d-7906006/alwi-ubed-dan-jiwa-kompetitif-ginting-yang-belum-bisa-main-lagi",
         "Non-Sepak Bola"
        ],
        [
         "2",
         "3",
         "Wakil Ketua Umum I PP PBSITaufik Hidayatbelum bisa memastikan kapan waktu untuk mengumumkan promosi-degradasi atlet. Selain karena momen belum tepat, promosi-degradasi juga harus dilakukan secara saksama. Taufik sempat berucap akan ada beberapa pemain yang terdegradasi usai Piala Sudirman 2025. Pernyataan itu muncul setelah capain minor atlet periode Januari hingga April. Puncaknya di All England dan Kejuaraan Asia. Dalam kedua turnamen tersebut Indonesia kehilangan tiga gelar, yang diraih pada edisi sebelumnya. Rinciannya dua gelar All England nomor tunggal putra dan ganda putra, sementara satu gelar tunggal putra di Kejuaraan Asia 2025. SCROLL TO CONTINUE WITH CONTENT Kini, Piala Sudirman telah rampung 4 Mei 2025 dengan menghasilkan China sebagai juaranya. Adapun Indonesia memperbaiki torehannya dengan menembus semifinal dan membawa pulang medali perunggu. Hasil tahun ini lebih baik dari edisi sebelumnya di Suzhou. Ketika itu tim Merah Putih tersingkir di perempatfinal dan pulang tanpa medali. Lantas bagaimana kelanjutan rencana PP PBSI terkait dengan promosi-degradasi pemain di pelatnas usai berakhirnya Piala Sudirman 2025? \"Pulang saja masih kapan. Capek kali, kasihan, dalam sehari dua hari seminggu dua minggu masih dalam habis Sudirman. Nanti pasti dikabari. Kalau di-push kapan, kapan, Tuhan-lah yang tahu. Enggak bisa di-push begitu juga. Kasihan itu,\" kata Taufik saat ditemui di Media Center Kemenpora, Kamis (8/5/2025). \"Maksudnya berita bulutangkis sekarang lagi lumayan prestasinya, jangan jadi diperkeruh sama yang lain. Kalau memang itu ada, iya ada, kalau tanya kapan pasti dikabari. Kalau nge-push tiap hari jawabannya nanti. Kalau ditanya sekarang 'kapan?' pastinya tak ada yang tahu pasti juga. Coba saja tanya dalam PBSI, pasti belum ada,\" tuturnya. Taufik, yang juga merupakan Wamenpora ini, menjelaskan bahwa keputusan untuk melakukan promosi-degradasi tidak semudah itu dan harus diperhatikan benar rekornya secara saksama. Selain itu, ia juga tak ingin pertanyaan-pertanyaan soal degradasi jadi mengganggu atlet yang saat ini sedang bertanding. Sebagian atlet-atlet RI saat ini berada di Taiwan untuk mengikuti Taipei Open hingga 11 Mei mendatang. \"Ini kan lagi ada pertandingan di Taiwan, atletnya yang mana, hasilnya seperti apa. Ini masih ada pertandingan terus dan jangan sampai mengganggu mereka yang lagi bertanding dan jangan sampai mengganggu mereka yang sedang latihan juga. Begitu ada kabar pasti akan dikasih tahu,\" ucap Taufik. Sementara itu, Taufik Hidayat juga mengakui belum mendapat info terkait mundurnya Chico Aura Dwi Wardoyo dari Pelatnas PBSI. Informasi mengenai mundurnya saudara Ester Nurumi Tri Wardoyo itu dari Pelatnas tengah ramai di media sosial. Padahal jika menilik jadwal, Chico masih terdaftar di Thailand Open 2025 pada 13-18 Mei mendatang. \"Chico belum dapat info, nanti kalau sudah dapat info saya kabari, karena sampai detik ini saya belum dapat kabar. Belum (ngobrol dengan Chico). Ke saya langsung belum. Nanti saya kroscek hari ini,\" ujarTaufik Hidayat. ",
         "https://sport.detik.com/raket/d-7905795/taufik-hidayat-kasih-info-terbaru-soal-promosi-degradasi-pelatnas-pbsi",
         "Non-Sepak Bola"
        ],
        [
         "3",
         "4",
         "Pebulutangkis ganda putra RIFajar Alfianmematok target maksimal diIndonesia Open 2025. BersamaMuhammad Rian Ardianto, dia akan mengupayakan untuk selalu memenangi pertandingan di turnamen Super 1000 tersebut. Fajar/Rian akan saling bahu membahu bersama ganda putra lainnya untuk bisa menyumbangkan gelar bagi Indonesia di dalam turnamen tersebut. Kali terakhir ganda putra RI juara di Indonesia Open adalah pada tahun 2021 lewat Marcus Fernaldi Gideon/Kevin Sanjaya Sukamuljo. Setelah itu belum ada lagi torehan juara dari Indonesia dalam tiga edisi yaitu 2022, 2023, 2024. SCROLL TO CONTINUE WITH CONTENT Tahun lalu Fajar/Rian tersingkir di babak pertama Indonesia Open. Mereka disingkirkan kompatriotnya, Leo Rolly Carnando/Daniel Marthin, 14-21, 17-21. Prestasi terbaik mereka adalah menembus semifinal pada Indonesia Open 2018. \"Kalau bicara masalah target semua pemain ingin yang terbaik yaitu juara. Saya dan Rian di Indonesia Open baru mencapai semifinal paling bagus, jadi ada target sendiri mau yang terbaik meskipun tak mudah,\" kataFajardalam keterangannya di Pelatnas PBSI, Cipayung, Rabu (7/5/2025). \"Karena ganda putra itu merata. Kami ingin target maksimal kenyataan kita yang berusaha dan tim utk mencapai babak semaksimal mungkin. \"Saya pribadi dengan harga tiket murah saya mengharapkan badminton lovers bisa mendukung atlet dan memenuhi tribune atlet karena itu memengaruhi mental atlet. Yang pasti semua atlet ingin menang dan juara dan kami akan usaha untuk menang,\" ujar juara All England 2023 dan 2024 itu. Indonesia Open 2025akan diselenggarakan pada 3-8 Juni di Istora Gelora Bung Karno (GBK). Turnamen ini merupakan ajang bulutangkis dalam kategori BWF World Tour Super 1000 dengan menyediakan hadiah total 1,45 juta dolar AS. ",
         "https://sport.detik.com/raket/d-7904470/target-maksimal-fajar-alfian-di-indonesia-open-2025",
         "Non-Sepak Bola"
        ],
        [
         "4",
         "5",
         "Indonesia Open 2025yang akan diselenggarakan pada 3-8 Juni di Istora Gelora Bung Karno (GBK) akan segera digeber. Berikut daftar harga tiket yang ditawarkan. Turnamen Indonesia Open 2025 merupakan ajang yang masuk dalam kategori HSBC BWF World Tour Super 1000 dengan menyediakan hadiah total 1,45 juta dolar AS. Selain perang bintang yang tersaji, panitia pelaksana sudah menyiapkan beberapa pembaruan untuk menambah daya tarik ajang Indonesia Open 2025. Salg satunya harga yang menurun dari edisi sebelumnya. SCROLL TO CONTINUE WITH CONTENT Menilik edisi 2024, tiket presale dijual dengan harga termurah Rp 150 ribu, sedangkan harga normal Rp 175 ribu dan akan terus meningkat hingga sampai babak final dengan harga presale Rp 1,9 juta, sementara harga normal Rp 2,15 juta. Nah, tahun ini ada penurunan harga yang juga diharapkan membuat badminton lover kian antusias menyaksikan secara langsung pertandingan bulutangkis Indonesia Open 2025, sekaligus mendukung para idolanya di lapangan Istora GBK. Tiket Indonesia Open 2025 dibanderol mulai dari Rp 50 ribu di babak pertama hingga termahal Rp 1 juta untuk babak final. \"Kami menyesuaikan harga tiket yang menjadikanIndonesia Open 2025sebagai turnamen Super 1000 termurah dibandingkan turnamen selevel lainnya di dunia. Tapi kami memastikan kualitas penyelenggaraan akan tetap meningkat,\" kata Armand dalam keterangannya di Pelatnas PBSI, Cipayung, Rabu (7/5).  'Lihat juga video: Tiket Indonesia Open Habis, Panitia Siapkan Tiket Tambahan Offline' [Gambas:Video 20detik] ",
         "https://sport.detik.com/raket/d-7903675/harga-tiket-indonesia-open-2025-di-istora-mulai-dari-rp-50-ribu",
         "Non-Sepak Bola"
        ]
       ],
       "shape": {
        "columns": 4,
        "rows": 5
       }
      },
      "text/html": [
       "<div>\n",
       "<style scoped>\n",
       "    .dataframe tbody tr th:only-of-type {\n",
       "        vertical-align: middle;\n",
       "    }\n",
       "\n",
       "    .dataframe tbody tr th {\n",
       "        vertical-align: top;\n",
       "    }\n",
       "\n",
       "    .dataframe thead th {\n",
       "        text-align: right;\n",
       "    }\n",
       "</style>\n",
       "<table border=\"1\" class=\"dataframe\">\n",
       "  <thead>\n",
       "    <tr style=\"text-align: right;\">\n",
       "      <th></th>\n",
       "      <th>No</th>\n",
       "      <th>Text</th>\n",
       "      <th>URL</th>\n",
       "      <th>Kategori</th>\n",
       "    </tr>\n",
       "  </thead>\n",
       "  <tbody>\n",
       "    <tr>\n",
       "      <th>0</th>\n",
       "      <td>1</td>\n",
       "      <td>Turnamen bulutangkis usia muda bertajukBupati ...</td>\n",
       "      <td>https://sport.detik.com/raket/d-7906512/semoga...</td>\n",
       "      <td>Non-Sepak Bola</td>\n",
       "    </tr>\n",
       "    <tr>\n",
       "      <th>1</th>\n",
       "      <td>2</td>\n",
       "      <td>Pebulutangkis tunggal putra IndonesiaAnthony S...</td>\n",
       "      <td>https://sport.detik.com/raket/d-7906006/alwi-u...</td>\n",
       "      <td>Non-Sepak Bola</td>\n",
       "    </tr>\n",
       "    <tr>\n",
       "      <th>2</th>\n",
       "      <td>3</td>\n",
       "      <td>Wakil Ketua Umum I PP PBSITaufik Hidayatbelum ...</td>\n",
       "      <td>https://sport.detik.com/raket/d-7905795/taufik...</td>\n",
       "      <td>Non-Sepak Bola</td>\n",
       "    </tr>\n",
       "    <tr>\n",
       "      <th>3</th>\n",
       "      <td>4</td>\n",
       "      <td>Pebulutangkis ganda putra RIFajar Alfianmemato...</td>\n",
       "      <td>https://sport.detik.com/raket/d-7904470/target...</td>\n",
       "      <td>Non-Sepak Bola</td>\n",
       "    </tr>\n",
       "    <tr>\n",
       "      <th>4</th>\n",
       "      <td>5</td>\n",
       "      <td>Indonesia Open 2025yang akan diselenggarakan p...</td>\n",
       "      <td>https://sport.detik.com/raket/d-7903675/harga-...</td>\n",
       "      <td>Non-Sepak Bola</td>\n",
       "    </tr>\n",
       "  </tbody>\n",
       "</table>\n",
       "</div>"
      ],
      "text/plain": [
       "   No                                               Text  \\\n",
       "0   1  Turnamen bulutangkis usia muda bertajukBupati ...   \n",
       "1   2  Pebulutangkis tunggal putra IndonesiaAnthony S...   \n",
       "2   3  Wakil Ketua Umum I PP PBSITaufik Hidayatbelum ...   \n",
       "3   4  Pebulutangkis ganda putra RIFajar Alfianmemato...   \n",
       "4   5  Indonesia Open 2025yang akan diselenggarakan p...   \n",
       "\n",
       "                                                 URL        Kategori  \n",
       "0  https://sport.detik.com/raket/d-7906512/semoga...  Non-Sepak Bola  \n",
       "1  https://sport.detik.com/raket/d-7906006/alwi-u...  Non-Sepak Bola  \n",
       "2  https://sport.detik.com/raket/d-7905795/taufik...  Non-Sepak Bola  \n",
       "3  https://sport.detik.com/raket/d-7904470/target...  Non-Sepak Bola  \n",
       "4  https://sport.detik.com/raket/d-7903675/harga-...  Non-Sepak Bola  "
      ]
     },
     "execution_count": 6,
     "metadata": {},
     "output_type": "execute_result"
    }
   ],
   "source": [
    "import requests\n",
    "from bs4 import BeautifulSoup\n",
    "import pandas as pd\n",
    "import time\n",
    "\n",
    "headers = {\n",
    "    'User-Agent': 'Mozilla/5.0'\n",
    "}\n",
    "\n",
    "# Daftar kategori dan URL tag Detik yang sesuai\n",
    "kategori_urls = {\n",
    "    'Non-Sepak Bola': [\n",
    "        'https://www.detik.com/tag/bulutangkis/',\n",
    "        'https://www.detik.com/tag/basket/',\n",
    "        'https://www.detik.com/tag/voli/'\n",
    "    ],\n",
    "    'Liga Inggris': ['https://www.detik.com/tag/liga-inggris/'],\n",
    "    'Liga Indonesia': ['https://www.detik.com/tag/liga-1/'],\n",
    "    'Liga Spanyol': ['https://www.detik.com/tag/la-liga/'],\n",
    "    'Liga Italia': ['https://www.detik.com/tag/serie-a/']\n",
    "}\n",
    "\n",
    "data_berita = []\n",
    "nomor = 1\n",
    "\n",
    "# Fungsi untuk scraping per kategori\n",
    "def scrape_kategori(kategori, urls, jumlah_target=20):\n",
    "    global nomor\n",
    "    berita_kategori = []\n",
    "    for url in urls:\n",
    "        res = requests.get(url, headers=headers)\n",
    "        soup = BeautifulSoup(res.text, 'html.parser')\n",
    "        links = soup.select(\"article a\")\n",
    "        \n",
    "        for a in links:\n",
    "            link = a.get('href')\n",
    "            if not link or not link.startswith('http'):\n",
    "                continue\n",
    "            \n",
    "            try:\n",
    "                r_artikel = requests.get(link, headers=headers)\n",
    "                soup_artikel = BeautifulSoup(r_artikel.text, 'html.parser')\n",
    "                paragraphs = soup_artikel.select('div.detail__body-text p')\n",
    "                isi_teks = ' '.join(p.get_text(strip=True) for p in paragraphs)\n",
    "                \n",
    "                if len(isi_teks.split()) >= 100:\n",
    "                    berita_kategori.append({\n",
    "                        'No': nomor,\n",
    "                        'Text': isi_teks,\n",
    "                        'URL': link,\n",
    "                        'Kategori': kategori\n",
    "                    })\n",
    "                    nomor += 1\n",
    "                    if len(berita_kategori) >= jumlah_target:\n",
    "                        return berita_kategori\n",
    "                time.sleep(1)\n",
    "            except Exception:\n",
    "                continue\n",
    "    return berita_kategori\n",
    "\n",
    "# Scrape semua kategori\n",
    "for kategori, urls in kategori_urls.items():\n",
    "    hasil = scrape_kategori(kategori, urls, jumlah_target=20)\n",
    "    data_berita.extend(hasil)\n",
    "\n",
    "# Simpan ke DataFrame\n",
    "df_total = pd.DataFrame(data_berita)\n",
    "df_total.head()\n"
   ]
  }
 ],
 "metadata": {
  "kernelspec": {
   "display_name": "venv",
   "language": "python",
   "name": "python3"
  },
  "language_info": {
   "codemirror_mode": {
    "name": "ipython",
    "version": 3
   },
   "file_extension": ".py",
   "mimetype": "text/x-python",
   "name": "python",
   "nbconvert_exporter": "python",
   "pygments_lexer": "ipython3",
   "version": "3.13.1"
  }
 },
 "nbformat": 4,
 "nbformat_minor": 5
}
